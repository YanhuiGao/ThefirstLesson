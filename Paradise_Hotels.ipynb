{
  "cells": [
    {
      "cell_type": "markdown",
      "id": "dense-medicaid",
      "metadata": {
        "id": "dense-medicaid"
      },
      "source": [
        "# Paradise Hotels Project\n",
        "\n",
        "## Context\n",
        "\n",
        "A significant number of hotel bookings are called off due to cancellations or no-shows. This is often made easier by the option to do so free of charge or preferably at a low cost which is beneficial to hotel guests but it is affecting the revenue for hotels. Such losses are particularly high on last-minute cancellations.\n",
        "\n",
        "\n",
        "The cancellation of bookings impact a hotel on various fronts:\n",
        "1. Loss of resources (revenue) when the hotel cannot resell the room.\n",
        "2. Additional costs of distribution channels by increasing commissions or paying for publicity to help sell these rooms.\n",
        "3. Lowering prices last minute, so the hotel can resell a room, resulting in reducing the profit margin.\n",
        "4. Human resources to make arrangements for the guests.\n",
        "\n",
        "## Objective\n",
        "\n",
        "The increasing number of cancellations calls for a Machine Learning based solution that can help in predicting which booking is likely to be canceled. Paradise Hotels Group has a chain of hotels and they are facing problems with the high number of booking cancellations and have reached out to your firm for data-driven solutions. You as a data scientist have to analyze the data provided to find which factors have a high influence on booking cancellations, build a predictive model that can predict which booking is going to be canceled in advance, and help in formulating profitable policies for cancellations and refunds.\n",
        "\n",
        "\n",
        "\n",
        "**Data Dictionary**\n",
        "\n",
        "* **no_of_adults**: Number of adults\n",
        "* **no_of_children**: Number of Children\n",
        "* **no_of_weekend_nights**: Number of weekend nights (Saturday or Sunday) the guest stayed or booked to stay at the hotel\n",
        "* **no_of_week_nights**: Number of week nights (Monday to Friday) the guest stayed or booked to stay at the hotel\n",
        "* **type_of_meal_plan**: Type of meal plan booked by the customer:\n",
        "    * Not Selected – No meal plan selected\n",
        "    * Meal Plan 1 – Breakfast\n",
        "    * Meal Plan 2 – Half board (breakfast and one other meal)\n",
        "    * Meal Plan 3 – Full board (breakfast, lunch, and dinner)\n",
        "* **required_car_parking_space**: Does the customer require a car parking space? (0 - No, 1- Yes)\n",
        "* **room_type_reserved**: Type of room reserved by the customer. The values are ciphered (encoded) by Star Hotels.\n",
        "* **lead_time**: Number of days between the date of booking and the arrival date\n",
        "* **arrival_year**: Year of arrival date\n",
        "* **arrival_month**: Month of arrival date\n",
        "* **arrival_date**: Date of the month\n",
        "* **market_segment_type**: Market segment designation.\n",
        "* **repeated_guest**: Is the customer a repeated guest? (0 - No, 1- Yes)\n",
        "* **no_of_previous_cancellations**: Number of previous bookings that were canceled by the customer prior to the current booking\n",
        "* **no_of_previous_bookings_not_canceled**: Number of previous bookings not canceled by the customer prior to the current booking\n",
        "* **avg_price_per_room**: Average price per day of the reservation; prices of the rooms are dynamic. (in euros)\n",
        "* **no_of_special_requests**: Total number of special requests made by the customer (e.g. high floor, view from the room, etc)\n",
        "* **booking_status**: Flag indicating if the booking was canceled or not."
      ]
    },
    {
      "cell_type": "code",
      "execution_count": null,
      "id": "proper-calgary",
      "metadata": {
        "id": "proper-calgary"
      },
      "outputs": [],
      "source": [
        "#Import packages\n",
        "\n",
        "import warnings\n",
        "warnings.filterwarnings(\"ignore\")\n",
        "\n",
        "import pandas as pd\n",
        "import numpy as np\n",
        "\n",
        "from sklearn.model_selection import train_test_split\n",
        "\n",
        "import matplotlib.pyplot as plt\n",
        "import seaborn as sns\n",
        "\n",
        "# Removes the limit for the number of displayed columns\n",
        "pd.set_option(\"display.max_columns\", None)\n",
        "\n",
        "# Sets the limit for the number of displayed rows\n",
        "pd.set_option(\"display.max_rows\", 200)\n",
        "\n",
        "# setting the precision of floating numbers to 5 decimal points\n",
        "pd.set_option(\"display.float_format\", lambda x: \"%.5f\" % x)\n",
        "\n",
        "# To build model for prediction\n",
        "from sklearn.linear_model import LogisticRegression\n",
        "from sklearn.svm import SVC\n",
        "from sklearn import metrics\n",
        "\n",
        "\n",
        "# To get diferent metric scores\n",
        "from sklearn.metrics import (confusion_matrix, classification_report)"
      ]
    },
    {
      "cell_type": "markdown",
      "id": "fantastic-rebel",
      "metadata": {
        "id": "fantastic-rebel"
      },
      "source": [
        "## Import Dataset"
      ]
    },
    {
      "cell_type": "code",
      "execution_count": null,
      "id": "precious-leonard",
      "metadata": {
        "id": "precious-leonard"
      },
      "outputs": [],
      "source": [
        "hotel = pd.read_csv(\"PH.csv\")"
      ]
    },
    {
      "cell_type": "code",
      "execution_count": null,
      "id": "geographic-gender",
      "metadata": {
        "id": "geographic-gender"
      },
      "outputs": [],
      "source": [
        "# copying data to another variable to avoid any changes to original data\n",
        "df = hotel.copy()"
      ]
    },
    {
      "cell_type": "markdown",
      "id": "convinced-blackberry",
      "metadata": {
        "id": "convinced-blackberry"
      },
      "source": [
        "### View the first and last 5 rows of the dataset"
      ]
    },
    {
      "cell_type": "code",
      "execution_count": null,
      "id": "tested-adjustment",
      "metadata": {
        "id": "tested-adjustment"
      },
      "outputs": [],
      "source": [
        "df.head()"
      ]
    },
    {
      "cell_type": "code",
      "execution_count": null,
      "id": "demonstrated-charger",
      "metadata": {
        "id": "demonstrated-charger"
      },
      "outputs": [],
      "source": [
        "df.tail()"
      ]
    },
    {
      "cell_type": "markdown",
      "id": "prepared-clause",
      "metadata": {
        "id": "prepared-clause"
      },
      "source": [
        "### Understand the shape of the dataset"
      ]
    },
    {
      "cell_type": "code",
      "execution_count": null,
      "id": "likely-scene",
      "metadata": {
        "id": "likely-scene"
      },
      "outputs": [],
      "source": [
        "df.shape"
      ]
    },
    {
      "cell_type": "markdown",
      "id": "creative-warner",
      "metadata": {
        "id": "creative-warner"
      },
      "source": [
        "### Check the data types of the columns for the dataset"
      ]
    },
    {
      "cell_type": "code",
      "execution_count": null,
      "id": "expanded-technique",
      "metadata": {
        "id": "expanded-technique"
      },
      "outputs": [],
      "source": [
        "df.info()"
      ]
    },
    {
      "cell_type": "code",
      "execution_count": null,
      "id": "greenhouse-vertical",
      "metadata": {
        "id": "greenhouse-vertical"
      },
      "outputs": [],
      "source": [
        "#checking for duplicate values\n",
        "df.duplicated().sum()"
      ]
    },
    {
      "cell_type": "code",
      "execution_count": null,
      "id": "referenced-architect",
      "metadata": {
        "id": "referenced-architect"
      },
      "outputs": [],
      "source": [
        "#Drop all the duplicate values\n",
        "df.drop_duplicates(inplace=True)"
      ]
    },
    {
      "cell_type": "code",
      "execution_count": null,
      "id": "5e6a4cac",
      "metadata": {
        "id": "5e6a4cac"
      },
      "outputs": [],
      "source": [
        "#Creating numerical columns\n",
        "num_cols=['no_of_adults', 'no_of_children', 'no_of_weekend_nights', 'no_of_week_nights','required_car_parking_space','lead_time','arrival_month','repeated_guest','no_of_previous_cancellations','no_of_previous_bookings_not_canceled', 'avg_price_per_room', 'no_of_special_requests']\n",
        "\n",
        "#Creating categorical variables \n",
        "cat_cols= ['type_of_meal_plan','room_type_reserved','market_segment_type','booking_status']"
      ]
    },
    {
      "cell_type": "markdown",
      "id": "realistic-mortgage",
      "metadata": {
        "id": "realistic-mortgage"
      },
      "source": [
        "## Exploratory Data Analysis"
      ]
    },
    {
      "cell_type": "markdown",
      "id": "43e4df73",
      "metadata": {
        "id": "43e4df73"
      },
      "source": [
        "### Q33: Check summary Statistics and analyze the variables. Also find the  Difference between the 25th quantile and 50% quantile value of average-price_per_room"
      ]
    },
    {
      "cell_type": "code",
      "execution_count": null,
      "id": "backed-solution",
      "metadata": {
        "id": "backed-solution"
      },
      "outputs": [],
      "source": [
        "#Remove __________ and complete the code\n",
        "\n",
        "df.____________\n"
      ]
    },
    {
      "cell_type": "markdown",
      "id": "79e0bf01",
      "metadata": {
        "id": "79e0bf01"
      },
      "source": [
        "### Q34: More than 90% of the type of room reserved by the customer are of which room type?"
      ]
    },
    {
      "cell_type": "code",
      "execution_count": null,
      "id": "c9ac67fc",
      "metadata": {
        "id": "c9ac67fc"
      },
      "outputs": [],
      "source": [
        "#Printing the % sub categories of each category \n",
        "# hint use value counts\n",
        "\n",
        "#Remove __________ and complete the code\n",
        "\n",
        "for i in cat_cols:\n",
        "    print(df[i].___________________)\n",
        "    print('-'*40)"
      ]
    },
    {
      "cell_type": "code",
      "execution_count": null,
      "id": "voluntary-irish",
      "metadata": {
        "id": "voluntary-irish"
      },
      "outputs": [],
      "source": [
        "#Let's encode Canceled bookings to 1 and Not_Canceled as 0\n",
        "df = df.replace({'booking_status':{'Not_Canceled':0,  'Canceled':1}})"
      ]
    },
    {
      "cell_type": "code",
      "execution_count": null,
      "id": "c03b3a81",
      "metadata": {
        "id": "c03b3a81"
      },
      "outputs": [],
      "source": [
        "#verify\n",
        "df.head()"
      ]
    },
    {
      "cell_type": "markdown",
      "id": "5de465b2",
      "metadata": {
        "id": "5de465b2"
      },
      "source": [
        "### Q35: Find correlation between different variables"
      ]
    },
    {
      "cell_type": "code",
      "execution_count": null,
      "id": "official-wyoming",
      "metadata": {
        "id": "official-wyoming"
      },
      "outputs": [],
      "source": [
        "#Remove __________ and complete the code\n",
        "\n",
        "plt.figure(figsize=(12, 7))\n",
        "sns.heatmap(______________,annot=True, fmt='0.2f', cmap='YlGnBu')\n",
        "plt.show()"
      ]
    },
    {
      "cell_type": "markdown",
      "id": "pleased-chicken",
      "metadata": {
        "id": "pleased-chicken"
      },
      "source": [
        "### Data Preparation for modeling\n",
        "\n",
        "- We want to predict which bookings will be canceled.\n",
        "- Before we proceed to build a model, we'll have to encode categorical features.\n",
        "- We'll split the data into train and test to be able to evaluate the model that we build on the train data."
      ]
    },
    {
      "cell_type": "code",
      "execution_count": null,
      "id": "70f00a80",
      "metadata": {
        "id": "70f00a80"
      },
      "outputs": [],
      "source": [
        "X = df.drop([\"booking_status\"], axis=1)\n",
        "Y = df[\"booking_status\"]\n",
        "\n",
        "X = pd.get_dummies(X, drop_first=True)\n",
        "\n",
        "# Splitting data in train and test sets\n",
        "X_train, X_test, y_train, y_test = train_test_split(X, Y, test_size=0.30, random_state=1)"
      ]
    },
    {
      "cell_type": "code",
      "execution_count": null,
      "id": "ecological-principal",
      "metadata": {
        "id": "ecological-principal"
      },
      "outputs": [],
      "source": [
        "print(\"Shape of Training set : \", X_train.shape)\n",
        "print(\"Shape of test set : \", X_test.shape)\n",
        "print(\"Percentage of classes in training set:\")\n",
        "print(y_train.value_counts(normalize=True))\n",
        "print(\"Percentage of classes in test set:\")\n",
        "print(y_test.value_counts(normalize=True))"
      ]
    },
    {
      "cell_type": "markdown",
      "id": "cultural-engagement",
      "metadata": {
        "id": "cultural-engagement"
      },
      "source": [
        "### Model evaluation criterion\n",
        "\n",
        "### Model can make wrong predictions as:\n",
        "\n",
        "1. Predicting a customer will not cancel their booking but in reality, the customer will cancel their booking.\n",
        "2. Predicting a customer will cancel their booking but in reality, the customer will not cancel their booking. \n",
        "\n",
        "### Which case is more important? \n",
        "* Both the cases are important as:\n",
        "\n",
        "* If we predict that a booking will not be canceled and the booking gets canceled then the hotel will lose resources and will have to bear additional costs of distribution channels.\n",
        "\n",
        "* If we predict that a booking will get canceled and the booking doesn't get canceled the hotel might not be able to provide satisfactory services to the customer by assuming that this booking will be canceled. This might damage the brand equity. \n",
        "\n",
        "\n",
        "\n",
        "### How to reduce the losses?\n",
        "\n",
        "* Hotel would want `F1 Score` to be maximized, greater the F1  score higher are the chances of minimizing False Negatives and False Positives. "
      ]
    },
    {
      "cell_type": "code",
      "execution_count": null,
      "id": "1797999b",
      "metadata": {
        "id": "1797999b"
      },
      "outputs": [],
      "source": [
        "#using this function will generate all the metrics and confusion score\n",
        "def metrics_score(actual, predicted):\n",
        "    print(classification_report(actual, predicted))\n",
        "    cm = confusion_matrix(actual, predicted)\n",
        "    plt.figure(figsize=(8,5))\n",
        "    sns.heatmap(cm, annot=True,  fmt='.2f', xticklabels=['Not Cancelled', 'Cancelled'], yticklabels=['Not Cancelled', 'Cancelled'])\n",
        "    plt.ylabel('Actual')\n",
        "    plt.xlabel('Predicted')\n",
        "    plt.show()"
      ]
    },
    {
      "cell_type": "markdown",
      "id": "mysterious-sight",
      "metadata": {
        "id": "mysterious-sight"
      },
      "source": [
        "### Logistic Regression (with Sklearn library)"
      ]
    },
    {
      "cell_type": "markdown",
      "id": "59458c1c",
      "metadata": {
        "id": "59458c1c"
      },
      "source": [
        "### Q36: Build the logistic regression model use random_state =1 and check its performance on train and test dataset"
      ]
    },
    {
      "cell_type": "code",
      "execution_count": null,
      "id": "plastic-logistics",
      "metadata": {
        "id": "plastic-logistics"
      },
      "outputs": [],
      "source": [
        "#Remove __________ and complete the code\n",
        "\n",
        "#define the logistic regression model\n",
        "log_reg = _______________________\n",
        "\n",
        "#fir the logistic regression model\n",
        "log_reg.___________"
      ]
    },
    {
      "cell_type": "code",
      "execution_count": null,
      "id": "coordinate-superintendent",
      "metadata": {
        "id": "coordinate-superintendent"
      },
      "outputs": [],
      "source": [
        "# predicting on training set\n",
        "#Remove __________ and complete the code\n",
        "\n",
        "y_pred_train = log_reg.________________\n",
        "\n",
        "metrics_score(y_train, y_pred_train)"
      ]
    },
    {
      "cell_type": "markdown",
      "id": "eight-edition",
      "metadata": {
        "id": "eight-edition"
      },
      "source": [
        "#### Checking performance on test set"
      ]
    },
    {
      "cell_type": "code",
      "execution_count": null,
      "id": "peaceful-uruguay",
      "metadata": {
        "id": "peaceful-uruguay"
      },
      "outputs": [],
      "source": [
        "# predicting on the test set\n",
        "\n",
        "#Remove __________ and complete the code\n",
        "\n",
        "y_pred_test = log_reg._________________\n",
        "metrics_score(y_test, y_pred_test)"
      ]
    },
    {
      "cell_type": "markdown",
      "id": "c944c0c1",
      "metadata": {
        "id": "c944c0c1"
      },
      "source": [
        "### Q37: Building SVM and checking its performance"
      ]
    },
    {
      "cell_type": "code",
      "execution_count": null,
      "id": "9dcfbfca",
      "metadata": {
        "colab": {
          "base_uri": "https://localhost:8080/"
        },
        "id": "9dcfbfca",
        "outputId": "b8bea6f7-d3f6-4bb0-da86-f1f17daf9c96"
      },
      "outputs": [
        {
          "output_type": "execute_result",
          "data": {
            "text/plain": [
              "SVC(kernel='linear')"
            ]
          },
          "metadata": {},
          "execution_count": 53
        }
      ],
      "source": [
        "#define the SVM model\n",
        "#Remove __________ and complete the code\n",
        "\n",
        "\n",
        "#linear kernal or linear decision boundary\n",
        "svm = SVC(kernel = ______) \n",
        "\n",
        "#fit svm model\n",
        "svm.fit(X = X_train, y = y_train)"
      ]
    },
    {
      "cell_type": "code",
      "execution_count": null,
      "id": "95724f9c",
      "metadata": {
        "id": "95724f9c"
      },
      "outputs": [],
      "source": [
        "# predicting on training set\n",
        "#Remove __________ and complete the code\n",
        "\n",
        "y_pred_train_svm = svm._____________\n",
        "metrics_score(_______________)"
      ]
    },
    {
      "cell_type": "code",
      "execution_count": null,
      "id": "934633d6",
      "metadata": {
        "id": "934633d6"
      },
      "outputs": [],
      "source": [
        "# predicting on testing set\n",
        "#Remove __________ and complete the code\n",
        "\n",
        "y_pred_test_svm = svm.___________\n",
        "metrics_score(__________________)"
      ]
    }
  ],
  "metadata": {
    "colab": {
      "name": "Paradise_Hotels.ipynb",
      "provenance": [],
      "collapsed_sections": [
        "mysterious-sight"
      ]
    },
    "kernelspec": {
      "display_name": "Python 3 (ipykernel)",
      "language": "python",
      "name": "python3"
    },
    "language_info": {
      "codemirror_mode": {
        "name": "ipython",
        "version": 3
      },
      "file_extension": ".py",
      "mimetype": "text/x-python",
      "name": "python",
      "nbconvert_exporter": "python",
      "pygments_lexer": "ipython3",
      "version": "3.8.12"
    }
  },
  "nbformat": 4,
  "nbformat_minor": 5
}